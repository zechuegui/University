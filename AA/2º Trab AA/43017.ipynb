{
 "cells": [
  {
   "cell_type": "markdown",
   "id": "interior-mills",
   "metadata": {},
   "source": [
    "# Introdução\n",
    "\n",
    "O presente trabalho, realizado no âmbito da unidade curricular Aprendizagem Automática, tem como objetivo construir um modelo que, dado um conjunto de dados, responda à pergunta \"quais os alunos em risco de abandonar os estudos?\".\n",
    "\n",
    "Para a realização deste trabalho foram testados os seguintes modelos:   \n",
    "   * Decision Tree\n",
    "   * SVC\n",
    "   * Random Forest   \n",
    "   \n",
    "   \n",
    "Os imports, a leitura de dados, o label encoder, o fit e o predict são idênticos para todos os modelos."
   ]
  },
  {
   "cell_type": "markdown",
   "id": "closed-vietnamese",
   "metadata": {},
   "source": [
    "## Índice\n",
    "\n",
    "[Imports](#1.-Imports)\n",
    "\n",
    "[Leitura de dados](#2.-Leitura-dos-dados)\n",
    "\n",
    "[Label Encoder](#3.-Label-encoder)\n",
    "\n",
    "[Modelos](#4.-Modelos)\n",
    "\n",
    "[Fit e Predict](#5.-Fit-e-predict)\n",
    "\n",
    "[Melhor modelo](#Melhor-modelo)"
   ]
  },
  {
   "cell_type": "markdown",
   "id": "physical-production",
   "metadata": {},
   "source": [
    "# Conjunto de dados\n",
    "O conjunto de treino para criar os modelos consiste em 1846 exemplos, cada um com 31 atributos.\n",
    "\n",
    "O conjunto de teste contém 792 exemplos, com os mesmos 31 atributos.\n"
   ]
  },
  {
   "cell_type": "markdown",
   "id": "written-stadium",
   "metadata": {},
   "source": [
    "## 1. Imports\n",
    "---\n",
    "[Voltar ao índice](#Índice)\n",
    "\n",
    "---\n",
    "+ Numpy para manipulação dos dados\n",
    "\n",
    "\n",
    "+ Preprocessing do sklearn para fazer LabelEncoder do atributo Program, para este passar de String a Integer\n",
    "\n",
    "\n",
    "+ Último import depende do modelo utilizado:\n",
    "   * **RandomForestRegressor** : \n",
    "   ```python \n",
    "   from sklearn.ensemble import RandomForestRegressor\n",
    "   ```\n",
    "   * **RandomForestClassifier**: \n",
    "   ```python \n",
    "   from sklearn.ensemble import RandomForestClassifier\n",
    "   ```\n",
    "   * **SVC**: \n",
    "   ```python \n",
    "   from sklearn.svm import SVC\n",
    "   ```\n",
    "   * **DecisonTree**: \n",
    "   ```python \n",
    "   from sklearn.tree import DecisionTreeClassifier\n",
    "   ```\n"
   ]
  },
  {
   "cell_type": "code",
   "execution_count": 7,
   "id": "concerned-documentation",
   "metadata": {},
   "outputs": [],
   "source": [
    "import numpy as np\n",
    "from sklearn import preprocessing"
   ]
  },
  {
   "cell_type": "markdown",
   "id": "presidential-configuration",
   "metadata": {},
   "source": [
    "## 2. Leitura dos dados\n",
    "---\n",
    "[Voltar ao índice](#Índice)\n",
    "\n",
    "---\n",
    "É utilizada a função genfromtxt do numpy para colocar as informações dos ficheiros, de teste e treino, em matrizes.\n",
    "+ x_train: Toda a informação menos o cabeçalho e a última coluna\n",
    "+ y_train: Apenas a última coluna   \n",
    "\n",
    "\n",
    "+ idEstudante: A primeira coluna que contém os id's dos estudantes\n",
    "+ x_test: Toda a informação no ficheiro de test exceto o cabeçalho"
   ]
  },
  {
   "cell_type": "code",
   "execution_count": 6,
   "id": "defensive-acquisition",
   "metadata": {},
   "outputs": [],
   "source": [
    "train = np.genfromtxt(\"train.csv\", delimiter=\",\", dtype=None, encoding=None)\n",
    "x_train = train[1:,0:-1]     \n",
    "y_train = train[1:,-1]\n",
    "\n",
    "\n",
    "test = np.genfromtxt(\"test.csv\", delimiter=\",\", dtype=None, encoding=None)\n",
    "idEstudante = test [1:,0]\n",
    "x_test = test[1:,0:]"
   ]
  },
  {
   "cell_type": "markdown",
   "id": "cubic-corner",
   "metadata": {},
   "source": [
    "Alguns dos testes foram realizados sem incluir a primeira coluna, referente ao Id dos estudantes:\n",
    "\n",
    "```python\n",
    "train = np.genfromtxt(\"train.csv\", delimiter=\",\", dtype=None, encoding=None)\n",
    "x_train = train[1:,1:-1]     \n",
    "y_train = train[1:,-1]\n",
    "\n",
    "\n",
    "test = np.genfromtxt(\"test.csv\", delimiter=\",\", dtype=None, encoding=None)\n",
    "idEstudante = test [1:,0]\n",
    "x_test = test[1:,1:]\n",
    "```\n",
    "No entando, foram obtidos melhores resultados com a coluna.\n"
   ]
  },
  {
   "cell_type": "markdown",
   "id": "marine-diana",
   "metadata": {},
   "source": [
    "## 3. Label encoder\n",
    "\n",
    "---\n",
    "\n",
    "[Voltar ao índice](#Índice)\n",
    "\n",
    "---\n",
    "\n",
    "É feito um label encoder na coluna que contém o nome do curso, para tornar os valores em inteiros. Sem isto não é possivel fazer o fit."
   ]
  },
  {
   "cell_type": "code",
   "execution_count": null,
   "id": "dependent-chapter",
   "metadata": {},
   "outputs": [],
   "source": [
    "lEnc = preprocessing.LabelEncoder()\n",
    "x_train[:,1] = lEnc.fit_transform(x_train[:,1])\n",
    "x_test[:,1] = lEnc.fit_transform(x_test[:,1])"
   ]
  },
  {
   "cell_type": "markdown",
   "id": "dirty-quality",
   "metadata": {},
   "source": [
    "Nos casos onde os modelos criados não incluíam a primeira coluna:\n",
    "```python\n",
    "lEnc = preprocessing.LabelEncoder()\n",
    "x_train[:,0] = lEnc.fit_transform(x_train[:,0])\n",
    "x_test[:,0] = lEnc.fit_transform(x_test[:,0])\n",
    "```"
   ]
  },
  {
   "cell_type": "markdown",
   "id": "incredible-carter",
   "metadata": {},
   "source": [
    "## 4. Modelos\n",
    "\n",
    "---\n",
    "\n",
    "[Voltar ao índice](#Índice)\n",
    "\n",
    "---\n",
    "\n",
    "[Decision Tree](#Decision-Tree)\n",
    "\n",
    "[SVC](#SVC)\n",
    "\n",
    "[Random Forest](#Random-Forest)"
   ]
  },
  {
   "cell_type": "markdown",
   "id": "divine-intranet",
   "metadata": {},
   "source": [
    "### Decision Tree\n",
    "Não foram feitas muitas experiências.\n",
    "Foi apenas realizado um teste, com os parâmetros todos a default, onde foram obtidos os seguintes resultados:\n",
    "   * **public score**: 0.92307\n",
    "   * **private score**: 0.88963"
   ]
  },
  {
   "cell_type": "code",
   "execution_count": null,
   "id": "humanitarian-twenty",
   "metadata": {},
   "outputs": [],
   "source": [
    "DTree = DecisionTreeClassifier(random_state=0)"
   ]
  },
  {
   "cell_type": "markdown",
   "id": "caring-malta",
   "metadata": {},
   "source": [
    "### SVC\n",
    "Neste modelo foram realizadas duas experiências, com todos os parâmetros a default, exceto o gamma.\n",
    "\n",
    "Na primeira, com todo o conjunto de treino:\n",
    "   * **public score**: 0.05333\n",
    "   * **private score**: 0.10062\n",
    "   \n",
    "   \n",
    "Na segunta, sem a primeira coluna:\n",
    "   * **public score**: 0.73043\n",
    "   * **private score**: 0.68695"
   ]
  },
  {
   "cell_type": "code",
   "execution_count": null,
   "id": "introductory-realtor",
   "metadata": {},
   "outputs": [],
   "source": [
    "svm = SVC(kernel='rbf', C=1.0, gamma='auto')"
   ]
  },
  {
   "cell_type": "markdown",
   "id": "gross-edmonton",
   "metadata": {},
   "source": [
    "### Random Forest\n",
    "\n",
    "Foram testados ambos o **Random forest regressor** e o **Random forest classifier**. Embora o classifier pareça, de início, o mais adequado, visto os resultados devolvidos serem 0 ou 1, foram obtidos melhores resultados usando o regressor, posteriormente arredondado os valores obtidos."
   ]
  },
  {
   "cell_type": "markdown",
   "id": "incoming-classic",
   "metadata": {},
   "source": [
    "### Parâmetros \n",
    "\n",
    "Para este modelo foram experimentadas diversas combinações de parâmetros:\n",
    "\n",
    "+ **n_estimators**: Foram testados vários valores para o nº de árvores, no qual se chegou à conclusão que 100 é o número ideal, porque até este valor havia um aumento do F1, e com mais do que 100 mantia-se o valor.\n",
    "\n",
    "\n",
    "+ **criterion**: Existem apenas dois critérios mse e mae, com o mse foram obtidos melhores resultados.\n",
    "\n",
    "\n",
    "+ **warm_start**: No decorrer das experiências não se notaram diferenças utilizando ou True ou False, por isso foi deixado a default (False).\n",
    "\n",
    "\n",
    "+ **min_samples_leaf**: Neste parâmetro foi onde se reparou um maior aumento nos resultados: entre 2 e 5 o public score não mostrou mudanças, mas o private score foi aumentando.\n",
    "\n",
    "\n",
    "+ **ccp_alpha**: Foram testados diversos valores de alfa, mas com valores inferiores a 0.0001 obteve-se sempre os mesmos resultados.\n",
    "\n",
    "\n",
    "+ **max_features**: Foram testados tambem vários valores de max_features, mas obteve-se sempre melhores resultados com o default (auto).\n",
    "\n",
    "\n",
    "+ **random_state**: Todas as submissões foram feitas com random_state = 0."
   ]
  },
  {
   "cell_type": "code",
   "execution_count": 4,
   "id": "delayed-niger",
   "metadata": {},
   "outputs": [],
   "source": [
    "regressor = RandomForestRegressor(min_samples_leaf=5,ccp_alpha=0.000001,random_state=0)"
   ]
  },
  {
   "cell_type": "markdown",
   "id": "dedicated-machinery",
   "metadata": {},
   "source": [
    "## 5. Fit e predict\n",
    "\n",
    "---\n",
    "\n",
    "[Voltar ao índice](#Índice)\n",
    "\n",
    "---\n",
    "\n",
    "É feito o fit do conjunto de treino, e o predict usando os dados de teste, colocando o resultado no y_pred."
   ]
  },
  {
   "cell_type": "code",
   "execution_count": null,
   "id": "attached-punishment",
   "metadata": {},
   "outputs": [],
   "source": [
    "regressor.fit(x_train, y_train)\n",
    "\n",
    "y_pred = regressor.predict(x_test)"
   ]
  },
  {
   "cell_type": "markdown",
   "id": "automotive-congress",
   "metadata": {},
   "source": [
    "Apenas no Random Forest Regressor é necessário arredondar os resultados obtidos e colocá-los como valores inteiros."
   ]
  },
  {
   "cell_type": "code",
   "execution_count": 8,
   "id": "sound-liberty",
   "metadata": {},
   "outputs": [],
   "source": [
    "y_pred = np.round(y_pred,0)\n",
    "y_pred = y_pred.astype(int)"
   ]
  },
  {
   "cell_type": "markdown",
   "id": "accessory-nashville",
   "metadata": {},
   "source": [
    "É utilizado a função stack do numpy, para colocar as duas listas, idEstudante e y_pred, na forma de coluna, uma ao lado da outra.\n",
    "\n",
    "Utiliza-se o insert, também do numpy, para colocar o cabeçalho do output final. \n",
    "\n",
    "E, por fim, a matriz é guardada num ficheiro .csv"
   ]
  },
  {
   "cell_type": "code",
   "execution_count": 3,
   "id": "caroline-civilian",
   "metadata": {},
   "outputs": [],
   "source": [
    "final = np.stack([idEstudante,y_pred], axis=1)\n",
    "\n",
    "final = np.insert(final,0,[\"Id\",\"Failure\"],axis=0)\n",
    "\n",
    "np.savetxt(\"submission.csv\", final,delimiter=',' ,fmt='%s')"
   ]
  },
  {
   "cell_type": "markdown",
   "id": "ordered-purchase",
   "metadata": {},
   "source": [
    "## Melhor modelo\n",
    "---\n",
    "[Voltar ao índice](#Índice)\n",
    "\n",
    "---\n",
    "As submissões com melhor desempenho foram todas com o modelo Random Forest. \n",
    "\n",
    "Assumindo que a melhor é a que tem maior private score:\n",
    "   * **private score: 0.93559**\n",
    "   * **public score: 0.96551**"
   ]
  },
  {
   "cell_type": "code",
   "execution_count": 9,
   "id": "macro-lawrence",
   "metadata": {},
   "outputs": [],
   "source": [
    "import numpy as np\n",
    "from sklearn import preprocessing\n",
    "from sklearn.ensemble import RandomForestRegressor\n",
    "\n",
    "train = np.genfromtxt(\"train.csv\", delimiter=\",\", dtype=None, encoding=None)\n",
    "x_train = train[1:,0:-1]     \n",
    "y_train = train[1:,-1]\n",
    "\n",
    "test = np.genfromtxt(\"test.csv\", delimiter=\",\", dtype=None, encoding=None)\n",
    "idEstudante = test [1:,0]\n",
    "x_test = test[1:,0:]\n",
    "\n",
    "lEnc = preprocessing.LabelEncoder()\n",
    "x_train[:,1] = lEnc.fit_transform(x_train[:,1])\n",
    "x_test[:,1] = lEnc.fit_transform(x_test[:,1])\n",
    "\n",
    "regressor = RandomForestRegressor(min_samples_leaf=5,ccp_alpha=0.000001,random_state=0)\n",
    "\n",
    "regressor.fit(x_train, y_train)\n",
    "y_pred = regressor.predict(x_test)\n",
    "\n",
    "y_pred = np.round(y_pred,0) \n",
    "y_pred = y_pred.astype(int)\n",
    "\n",
    "final = np.stack([idEstudante,y_pred], axis=1)\n",
    "final = np.insert(final,0,[\"Id\",\"Failure\"],axis=0)\n",
    "np.savetxt(\"submission.csv\", final,delimiter=',' ,fmt='%s')"
   ]
  }
 ],
 "metadata": {
  "kernelspec": {
   "display_name": "Python 3",
   "language": "python",
   "name": "python3"
  },
  "language_info": {
   "codemirror_mode": {
    "name": "ipython",
    "version": 3
   },
   "file_extension": ".py",
   "mimetype": "text/x-python",
   "name": "python",
   "nbconvert_exporter": "python",
   "pygments_lexer": "ipython3",
   "version": "3.9.0"
  }
 },
 "nbformat": 4,
 "nbformat_minor": 5
}
